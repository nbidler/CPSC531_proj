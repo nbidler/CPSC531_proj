{
 "cells": [
  {
   "cell_type": "code",
   "execution_count": 1,
   "id": "e531c0ff",
   "metadata": {},
   "outputs": [
    {
     "name": "stdout",
     "output_type": "stream",
     "text": [
      "hello world\n"
     ]
    }
   ],
   "source": [
    "print(\"hello world\")"
   ]
  },
  {
   "cell_type": "code",
   "execution_count": 2,
   "id": "80affd37",
   "metadata": {},
   "outputs": [
    {
     "data": {
      "text/plain": [
       "pydap.model.DatasetType"
      ]
     },
     "execution_count": 2,
     "metadata": {},
     "output_type": "execute_result"
    }
   ],
   "source": [
    "import pydap\n",
    "from pydap.client import open_url\n",
    "dataset = open_url('http://test.opendap.org/dap/data/nc/coads_climatology.nc')\n",
    "type(dataset)"
   ]
  },
  {
   "cell_type": "code",
   "execution_count": 3,
   "id": "27992178",
   "metadata": {},
   "outputs": [
    {
     "data": {
      "text/plain": [
       "['COADSX', 'COADSY', 'TIME', 'SST', 'AIRT', 'UWND', 'VWND']"
      ]
     },
     "execution_count": 3,
     "metadata": {},
     "output_type": "execute_result"
    }
   ],
   "source": [
    "list(dataset.keys())"
   ]
  },
  {
   "cell_type": "code",
   "execution_count": 4,
   "id": "dd94f08a",
   "metadata": {},
   "outputs": [
    {
     "data": {
      "text/plain": [
       "pydap.model.GridType"
      ]
     },
     "execution_count": 4,
     "metadata": {},
     "output_type": "execute_result"
    }
   ],
   "source": [
    "sst = dataset['SST']  # or dataset.SST\n",
    "type(sst)"
   ]
  },
  {
   "cell_type": "code",
   "execution_count": 5,
   "id": "4b03b038",
   "metadata": {},
   "outputs": [],
   "source": [
    "dataset = open_url('https://thredds.sccoos.org/thredds/dodsC/autoss/santa_monica_pier-2013.nc')"
   ]
  },
  {
   "cell_type": "code",
   "execution_count": 6,
   "id": "d8258c43",
   "metadata": {},
   "outputs": [
    {
     "data": {
      "text/plain": [
       "pydap.model.DatasetType"
      ]
     },
     "execution_count": 6,
     "metadata": {},
     "output_type": "execute_result"
    }
   ],
   "source": [
    "type(dataset)"
   ]
  },
  {
   "cell_type": "code",
   "execution_count": 7,
   "id": "c4c2bbbd",
   "metadata": {},
   "outputs": [
    {
     "data": {
      "text/plain": [
       "['time',\n",
       " 'temperature',\n",
       " 'conductivity',\n",
       " 'pressure',\n",
       " 'salinity',\n",
       " 'chlorophyll_raw',\n",
       " 'chlorophyll',\n",
       " 'temperature_flagPrimary',\n",
       " 'temperature_flagSecondary',\n",
       " 'conductivity_flagPrimary',\n",
       " 'conductivity_flagSecondary',\n",
       " 'pressure_flagPrimary',\n",
       " 'pressure_flagSecondary',\n",
       " 'salinity_flagPrimary',\n",
       " 'salinity_flagSecondary',\n",
       " 'chlorophyll_flagPrimary',\n",
       " 'chlorophyll_flagSecondary',\n",
       " 'sigmat',\n",
       " 'diagnosticVoltage',\n",
       " 'currentDraw',\n",
       " 'aux1',\n",
       " 'aux3',\n",
       " 'aux4',\n",
       " 'instrument1',\n",
       " 'instrument2',\n",
       " 'platform1',\n",
       " 'station',\n",
       " 'lat',\n",
       " 'lon',\n",
       " 'depth',\n",
       " 'crs']"
      ]
     },
     "execution_count": 7,
     "metadata": {},
     "output_type": "execute_result"
    }
   ],
   "source": [
    "list(dataset.keys())"
   ]
  },
  {
   "cell_type": "code",
   "execution_count": 8,
   "id": "ab58ed7f",
   "metadata": {},
   "outputs": [],
   "source": [
    "var = dataset['time']"
   ]
  },
  {
   "cell_type": "code",
   "execution_count": 9,
   "id": "2f9a568d",
   "metadata": {},
   "outputs": [
    {
     "data": {
      "text/plain": [
       "(98550,)"
      ]
     },
     "execution_count": 9,
     "metadata": {},
     "output_type": "execute_result"
    }
   ],
   "source": [
    "var.shape"
   ]
  },
  {
   "cell_type": "code",
   "execution_count": 10,
   "id": "e2b11a7a",
   "metadata": {},
   "outputs": [
    {
     "data": {
      "text/plain": [
       "dtype('>i4')"
      ]
     },
     "execution_count": 10,
     "metadata": {},
     "output_type": "execute_result"
    }
   ],
   "source": [
    "var.dtype"
   ]
  },
  {
   "cell_type": "code",
   "execution_count": 11,
   "id": "439febbd",
   "metadata": {},
   "outputs": [],
   "source": [
    "mytime = dataset.time"
   ]
  },
  {
   "cell_type": "code",
   "execution_count": 12,
   "id": "2a76be68",
   "metadata": {},
   "outputs": [
    {
     "name": "stdout",
     "output_type": "stream",
     "text": [
      "<BaseType with data array([1358986620], dtype=int32)>\n",
      "<BaseType with data array([1358986860], dtype=int32)>\n",
      "<BaseType with data array([1358987100], dtype=int32)>\n",
      "<BaseType with data array([1358987340], dtype=int32)>\n",
      "<BaseType with data array([1358987580], dtype=int32)>\n",
      "<BaseType with data array([1358987820], dtype=int32)>\n",
      "<BaseType with data array([1358988060], dtype=int32)>\n",
      "<BaseType with data array([1358988300], dtype=int32)>\n",
      "<BaseType with data array([1358988540], dtype=int32)>\n",
      "<BaseType with data array([1358988780], dtype=int32)>\n",
      "<BaseType with data array([1358989020], dtype=int32)>\n"
     ]
    }
   ],
   "source": [
    "count = 0\n",
    "for entry in mytime:\n",
    "    print(mytime[count])\n",
    "    count +=1\n",
    "    if count > 10:\n",
    "        break"
   ]
  },
  {
   "cell_type": "code",
   "execution_count": 20,
   "id": "6afdaaa7",
   "metadata": {},
   "outputs": [
    {
     "data": {
      "text/plain": [
       "<BaseType with data array([1358986620, 1358986860, 1358987100, 1358987340, 1358987580,\n",
       "       1358987820, 1358988060, 1358988300, 1358988540, 1358988780],\n",
       "      dtype=int32)>"
      ]
     },
     "execution_count": 20,
     "metadata": {},
     "output_type": "execute_result"
    }
   ],
   "source": [
    "grid = mytime[0:10]\n",
    "grid"
   ]
  },
  {
   "cell_type": "code",
   "execution_count": 17,
   "id": "4652b1e8",
   "metadata": {},
   "outputs": [
    {
     "data": {
      "text/plain": [
       "{'comment': 'also known as Epoch or Unix time',\n",
       " 'platform': 'platform1',\n",
       " 'long_name': 'time',\n",
       " 'standard_name': 'time',\n",
       " 'units': 'seconds since 1970-01-01 00:00:00 UTC',\n",
       " 'calendar': 'julian',\n",
       " 'axis': 'T',\n",
       " '_ChunkSizes': 1024}"
      ]
     },
     "execution_count": 17,
     "metadata": {},
     "output_type": "execute_result"
    }
   ],
   "source": [
    "grid.attributes"
   ]
  },
  {
   "cell_type": "code",
   "execution_count": 19,
   "id": "3c837f9b",
   "metadata": {},
   "outputs": [
    {
     "data": {
      "text/plain": [
       "<BaseType with data array([1358986620, 1358986860, 1358987100, 1358987340, 1358987580,\n",
       "       1358987820, 1358988060, 1358988300, 1358988540, 1358988780],\n",
       "      dtype=int32)>"
      ]
     },
     "execution_count": 19,
     "metadata": {},
     "output_type": "execute_result"
    }
   ],
   "source": [
    "var = dataset['time','salinity']\n",
    "grid = var.time[0:10]\n",
    "grid"
   ]
  },
  {
   "cell_type": "code",
   "execution_count": 28,
   "id": "dc43c319",
   "metadata": {},
   "outputs": [
    {
     "data": {
      "text/plain": [
       "pydap.model.DatasetType"
      ]
     },
     "execution_count": 28,
     "metadata": {},
     "output_type": "execute_result"
    }
   ],
   "source": [
    "type(var)"
   ]
  },
  {
   "cell_type": "code",
   "execution_count": 22,
   "id": "b6e11eaf",
   "metadata": {},
   "outputs": [
    {
     "data": {
      "text/plain": [
       "pydap.model.BaseType"
      ]
     },
     "execution_count": 22,
     "metadata": {},
     "output_type": "execute_result"
    }
   ],
   "source": [
    "type(var.time)"
   ]
  },
  {
   "cell_type": "code",
   "execution_count": 53,
   "id": "14558dd9",
   "metadata": {},
   "outputs": [
    {
     "name": "stdout",
     "output_type": "stream",
     "text": [
      "(98550,)\n",
      "98550\n",
      "time\n",
      "{'comment': 'also known as Epoch or Unix time', 'platform': 'platform1', 'long_name': 'time', 'standard_name': 'time', 'units': 'seconds since 1970-01-01 00:00:00 UTC', 'calendar': 'julian', 'axis': 'T', '_ChunkSizes': 1024}\n"
     ]
    }
   ],
   "source": [
    "print(var.time.shape)\n",
    "print(len(var.time))\n",
    "print(grid[0].name)\n",
    "print(grid[0].attributes)"
   ]
  },
  {
   "cell_type": "code",
   "execution_count": 54,
   "id": "e66b0895",
   "metadata": {},
   "outputs": [
    {
     "name": "stdout",
     "output_type": "stream",
     "text": [
      "[1358986620 1358986860 1358987100 1358987340 1358987580 1358987820\n",
      " 1358988060 1358988300 1358988540 1358988780]\n",
      "<class 'numpy.ndarray'>\n"
     ]
    }
   ],
   "source": [
    "print(grid.data)\n",
    "print(type(grid.data))"
   ]
  },
  {
   "cell_type": "code",
   "execution_count": 103,
   "id": "bf985839",
   "metadata": {
    "scrolled": true
   },
   "outputs": [
    {
     "name": "stdout",
     "output_type": "stream",
     "text": [
      "31\n",
      "['time', 'temperature', 'conductivity', 'pressure', 'salinity', 'chlorophyll_raw', 'chlorophyll', 'temperature_flagPrimary', 'temperature_flagSecondary', 'conductivity_flagPrimary', 'conductivity_flagSecondary', 'pressure_flagPrimary', 'pressure_flagSecondary', 'salinity_flagPrimary', 'salinity_flagSecondary', 'chlorophyll_flagPrimary', 'chlorophyll_flagSecondary', 'sigmat', 'diagnosticVoltage', 'currentDraw', 'aux1', 'aux3', 'aux4', 'instrument1', 'instrument2', 'platform1', 'station', 'lat', 'lon', 'depth', 'crs']\n",
      "27\n",
      "['time', 'temperature', 'conductivity', 'pressure', 'salinity', 'chlorophyll_raw', 'chlorophyll', 'temperature_flagPrimary', 'temperature_flagSecondary', 'conductivity_flagPrimary', 'conductivity_flagSecondary', 'pressure_flagPrimary', 'pressure_flagSecondary', 'salinity_flagPrimary', 'salinity_flagSecondary', 'chlorophyll_flagPrimary', 'chlorophyll_flagSecondary', 'sigmat', 'diagnosticVoltage', 'currentDraw', 'aux1', 'aux3', 'aux4', 'lat', 'lon', 'depth', 'crs']\n",
      "23\n",
      "['time', 'temperature', 'conductivity', 'pressure', 'salinity', 'chlorophyll_raw', 'chlorophyll', 'temperature_flagPrimary', 'temperature_flagSecondary', 'conductivity_flagPrimary', 'conductivity_flagSecondary', 'pressure_flagPrimary', 'pressure_flagSecondary', 'salinity_flagPrimary', 'salinity_flagSecondary', 'chlorophyll_flagPrimary', 'chlorophyll_flagSecondary', 'sigmat', 'diagnosticVoltage', 'currentDraw', 'aux1', 'aux3', 'aux4']\n"
     ]
    }
   ],
   "source": [
    "fields = list(dataset.keys())\n",
    "print(len(fields))\n",
    "print(fields)\n",
    "    #exclude string fields instrument1 (etc) they prevent loop from working\n",
    "fields.remove('instrument1')\n",
    "fields.remove('instrument2')\n",
    "fields.remove('platform1')\n",
    "fields.remove('station')\n",
    "print(len(fields))\n",
    "print(fields)\n",
    "    #exclude single-entry items, they also prevent loop from working\n",
    "fields.remove('lat')\n",
    "fields.remove('lon')\n",
    "fields.remove('depth')\n",
    "fields.remove('crs')\n",
    "print(len(fields))\n",
    "print(fields)"
   ]
  },
  {
   "cell_type": "code",
   "execution_count": 105,
   "id": "3a00580f",
   "metadata": {},
   "outputs": [
    {
     "name": "stdout",
     "output_type": "stream",
     "text": [
      "time <BaseType with data array([1358986620, 1358986860, 1358987100, 1358987340, 1358987580,\n",
      "       1358987820, 1358988060, 1358988300, 1358988540, 1358988780,\n",
      "       1358989020, 1358989260, 1358989500, 1358989740, 1358989980],\n",
      "      dtype=int32)> <class 'numpy.dtype[intc]'>\n",
      "temperature <BaseType with data array([13.084 , 13.085 , 13.0868, 13.0825, 13.081 , 13.0785, 13.0797,\n",
      "       13.0821, 13.0786, 13.0768, 13.0747, 13.0733, 13.073 , 13.0739,\n",
      "       13.0743], dtype=float32)> <class 'numpy.dtype[float32]'>\n",
      "conductivity <BaseType with data array([3.87131, 3.87138, 3.87154, 3.87116, 3.87106, 3.87084, 3.87091,\n",
      "       3.87114, 3.87083, 3.87069, 3.87048, 3.87038, 3.87033, 3.87041,\n",
      "       3.87047], dtype=float32)> <class 'numpy.dtype[float32]'>\n",
      "pressure <BaseType with data array([2.377, 2.35 , 2.38 , 2.391, 2.404, 2.411, 2.461, 2.524, 2.472,\n",
      "       2.524, 2.531, 2.567, 2.565, 2.595, 2.596], dtype=float32)> <class 'numpy.dtype[float32]'>\n",
      "salinity <BaseType with data array([32.7869, 32.7867, 32.7867, 32.7868, 32.7872, 32.7872, 32.7869,\n",
      "       32.787 , 32.787 , 32.7872, 32.7871, 32.7873, 32.7871, 32.787 ,\n",
      "       32.7873], dtype=float32)> <class 'numpy.dtype[float32]'>\n",
      "chlorophyll_raw <BaseType with data array([0.0323, 0.0318, 0.0326, 0.0326, 0.0324, 0.0328, 0.0324, 0.032 ,\n",
      "       0.0325, 0.0325, 0.0323, 0.0322, 0.0324, 0.0317, 0.0318],\n",
      "      dtype=float32)> <class 'numpy.dtype[float32]'>\n",
      "chlorophyll <BaseType with data array([0.323, 0.318, 0.326, 0.326, 0.324, 0.328, 0.324, 0.32 , 0.325,\n",
      "       0.325, 0.323, 0.322, 0.324, 0.317, 0.318], dtype=float32)> <class 'numpy.dtype[float32]'>\n",
      "temperature_flagPrimary <BaseType with data array([1, 1, 1, 1, 1, 1, 1, 1, 1, 1, 1, 1, 1, 1, 1], dtype=uint8)> <class 'numpy.dtype[uint8]'>\n",
      "temperature_flagSecondary <BaseType with data array([0, 0, 0, 0, 0, 0, 0, 0, 0, 0, 0, 0, 0, 0, 0], dtype=uint8)> <class 'numpy.dtype[uint8]'>\n",
      "conductivity_flagPrimary <BaseType with data array([1, 1, 1, 1, 1, 1, 1, 1, 1, 1, 1, 1, 1, 1, 1], dtype=uint8)> <class 'numpy.dtype[uint8]'>\n",
      "conductivity_flagSecondary <BaseType with data array([0, 0, 0, 0, 0, 0, 0, 0, 0, 0, 0, 0, 0, 0, 0], dtype=uint8)> <class 'numpy.dtype[uint8]'>\n",
      "pressure_flagPrimary <BaseType with data array([1, 1, 1, 1, 1, 1, 1, 1, 1, 1, 1, 1, 1, 1, 1], dtype=uint8)> <class 'numpy.dtype[uint8]'>\n",
      "pressure_flagSecondary <BaseType with data array([0, 0, 0, 0, 0, 0, 0, 0, 0, 0, 0, 0, 0, 0, 0], dtype=uint8)> <class 'numpy.dtype[uint8]'>\n",
      "salinity_flagPrimary <BaseType with data array([1, 1, 1, 1, 1, 1, 1, 1, 1, 1, 1, 1, 1, 1, 1], dtype=uint8)> <class 'numpy.dtype[uint8]'>\n",
      "salinity_flagSecondary <BaseType with data array([0, 0, 0, 0, 0, 0, 0, 0, 0, 0, 0, 0, 0, 0, 0], dtype=uint8)> <class 'numpy.dtype[uint8]'>\n",
      "chlorophyll_flagPrimary <BaseType with data array([1, 1, 1, 1, 1, 1, 1, 1, 1, 1, 1, 1, 1, 1, 1], dtype=uint8)> <class 'numpy.dtype[uint8]'>\n",
      "chlorophyll_flagSecondary <BaseType with data array([0, 0, 0, 0, 0, 0, 0, 0, 0, 0, 0, 0, 0, 0, 0], dtype=uint8)> <class 'numpy.dtype[uint8]'>\n",
      "sigmat <BaseType with data array([24.6624, 24.662 , 24.6616, 24.6626, 24.6631, 24.6637, 24.6631,\n",
      "       24.6627, 24.6635, 24.6639, 24.6643, 24.6647, 24.6647, 24.6644,\n",
      "       24.6646], dtype=float32)> <class 'numpy.dtype[float32]'>\n",
      "diagnosticVoltage <BaseType with data array([13. , 13. , 13. , 13. , 13. , 13. , 13. , 13. , 13. , 12.9, 13. ,\n",
      "       13. , 13. , 13. , 13. ], dtype=float32)> <class 'numpy.dtype[float32]'>\n",
      "currentDraw <BaseType with data array([127.1, 130.7, 129.8, 133.9, 124.8, 131.5, 132.2, 131.2, 132. ,\n",
      "       140.2, 131.2, 129. , 134.4, 131.3, 135.1], dtype=float32)> <class 'numpy.dtype[float32]'>\n",
      "aux1 <BaseType with data array([0.0003, 0.0003, 0.0003, 0.0003, 0.0003, 0.0003, 0.0003, 0.0003,\n",
      "       0.0003, 0.0002, 0.0003, 0.0003, 0.0003, 0.0003, 0.0003],\n",
      "      dtype=float32)> <class 'numpy.dtype[float32]'>\n",
      "aux3 <BaseType with data array([0.0003, 0.0002, 0.0002, 0.0002, 0.0002, 0.0003, 0.0002, 0.0002,\n",
      "       0.0002, 0.0002, 0.0002, 0.0002, 0.0002, 0.0002, 0.0002],\n",
      "      dtype=float32)> <class 'numpy.dtype[float32]'>\n",
      "aux4 <BaseType with data array([0.0003, 0.0002, 0.0003, 0.0003, 0.0003, 0.0003, 0.0002, 0.0002,\n",
      "       0.0003, 0.0003, 0.0003, 0.0003, 0.0003, 0.0003, 0.0003],\n",
      "      dtype=float32)> <class 'numpy.dtype[float32]'>\n"
     ]
    }
   ],
   "source": [
    "for entry in fields:\n",
    "    measurement = dataset[entry][0:15]\n",
    "    print(entry, measurement, type(measurement.dtype))\n",
    "#    for item in measurement:\n",
    "#        print(item)"
   ]
  },
  {
   "cell_type": "code",
   "execution_count": null,
   "id": "1afa66f1",
   "metadata": {},
   "outputs": [],
   "source": []
  }
 ],
 "metadata": {
  "kernelspec": {
   "display_name": "Python 3",
   "language": "python",
   "name": "python3"
  },
  "language_info": {
   "codemirror_mode": {
    "name": "ipython",
    "version": 3
   },
   "file_extension": ".py",
   "mimetype": "text/x-python",
   "name": "python",
   "nbconvert_exporter": "python",
   "pygments_lexer": "ipython3",
   "version": "3.8.8"
  }
 },
 "nbformat": 4,
 "nbformat_minor": 5
}
