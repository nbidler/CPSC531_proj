{
 "cells": [
  {
   "cell_type": "code",
   "execution_count": 1,
   "id": "e531c0ff",
   "metadata": {},
   "outputs": [
    {
     "name": "stdout",
     "output_type": "stream",
     "text": [
      "hello world\n"
     ]
    }
   ],
   "source": [
    "print(\"hello world\")"
   ]
  },
  {
   "cell_type": "code",
   "execution_count": 3,
   "id": "80affd37",
   "metadata": {},
   "outputs": [
    {
     "data": {
      "text/plain": [
       "pydap.model.DatasetType"
      ]
     },
     "execution_count": 3,
     "metadata": {},
     "output_type": "execute_result"
    }
   ],
   "source": [
    "import pydap\n",
    "from pydap.client import open_url\n",
    "dataset = open_url('http://test.opendap.org/dap/data/nc/coads_climatology.nc')\n",
    "type(dataset)"
   ]
  },
  {
   "cell_type": "code",
   "execution_count": 4,
   "id": "27992178",
   "metadata": {},
   "outputs": [
    {
     "data": {
      "text/plain": [
       "['COADSX', 'COADSY', 'TIME', 'SST', 'AIRT', 'UWND', 'VWND']"
      ]
     },
     "execution_count": 4,
     "metadata": {},
     "output_type": "execute_result"
    }
   ],
   "source": [
    "list(dataset.keys())"
   ]
  },
  {
   "cell_type": "code",
   "execution_count": 5,
   "id": "dd94f08a",
   "metadata": {},
   "outputs": [
    {
     "data": {
      "text/plain": [
       "pydap.model.GridType"
      ]
     },
     "execution_count": 5,
     "metadata": {},
     "output_type": "execute_result"
    }
   ],
   "source": [
    "sst = dataset['SST']  # or dataset.SST\n",
    "type(sst)"
   ]
  },
  {
   "cell_type": "code",
   "execution_count": 6,
   "id": "4b03b038",
   "metadata": {},
   "outputs": [],
   "source": [
    "dataset = open_url('https://thredds.sccoos.org/thredds/dodsC/autoss/santa_monica_pier-2013.nc')"
   ]
  },
  {
   "cell_type": "code",
   "execution_count": 7,
   "id": "d8258c43",
   "metadata": {},
   "outputs": [
    {
     "data": {
      "text/plain": [
       "pydap.model.DatasetType"
      ]
     },
     "execution_count": 7,
     "metadata": {},
     "output_type": "execute_result"
    }
   ],
   "source": [
    "type(dataset)"
   ]
  },
  {
   "cell_type": "code",
   "execution_count": 8,
   "id": "c4c2bbbd",
   "metadata": {},
   "outputs": [
    {
     "data": {
      "text/plain": [
       "['time',\n",
       " 'temperature',\n",
       " 'conductivity',\n",
       " 'pressure',\n",
       " 'salinity',\n",
       " 'chlorophyll_raw',\n",
       " 'chlorophyll',\n",
       " 'temperature_flagPrimary',\n",
       " 'temperature_flagSecondary',\n",
       " 'conductivity_flagPrimary',\n",
       " 'conductivity_flagSecondary',\n",
       " 'pressure_flagPrimary',\n",
       " 'pressure_flagSecondary',\n",
       " 'salinity_flagPrimary',\n",
       " 'salinity_flagSecondary',\n",
       " 'chlorophyll_flagPrimary',\n",
       " 'chlorophyll_flagSecondary',\n",
       " 'sigmat',\n",
       " 'diagnosticVoltage',\n",
       " 'currentDraw',\n",
       " 'aux1',\n",
       " 'aux3',\n",
       " 'aux4',\n",
       " 'instrument1',\n",
       " 'instrument2',\n",
       " 'platform1',\n",
       " 'station',\n",
       " 'lat',\n",
       " 'lon',\n",
       " 'depth',\n",
       " 'crs']"
      ]
     },
     "execution_count": 8,
     "metadata": {},
     "output_type": "execute_result"
    }
   ],
   "source": [
    "list(dataset.keys())"
   ]
  },
  {
   "cell_type": "code",
   "execution_count": 9,
   "id": "ab58ed7f",
   "metadata": {},
   "outputs": [],
   "source": [
    "var = dataset['time']"
   ]
  },
  {
   "cell_type": "code",
   "execution_count": 10,
   "id": "2f9a568d",
   "metadata": {},
   "outputs": [
    {
     "data": {
      "text/plain": [
       "(98550,)"
      ]
     },
     "execution_count": 10,
     "metadata": {},
     "output_type": "execute_result"
    }
   ],
   "source": [
    "var.shape"
   ]
  },
  {
   "cell_type": "code",
   "execution_count": 11,
   "id": "e2b11a7a",
   "metadata": {},
   "outputs": [
    {
     "data": {
      "text/plain": [
       "dtype('>i4')"
      ]
     },
     "execution_count": 11,
     "metadata": {},
     "output_type": "execute_result"
    }
   ],
   "source": [
    "var.dtype"
   ]
  },
  {
   "cell_type": "code",
   "execution_count": 12,
   "id": "439febbd",
   "metadata": {},
   "outputs": [],
   "source": [
    "mytime = dataset.time"
   ]
  },
  {
   "cell_type": "code",
   "execution_count": 13,
   "id": "2a76be68",
   "metadata": {},
   "outputs": [
    {
     "name": "stdout",
     "output_type": "stream",
     "text": [
      "<BaseType with data array([1358986620], dtype=int32)>\n",
      "<BaseType with data array([1358986860], dtype=int32)>\n",
      "<BaseType with data array([1358987100], dtype=int32)>\n",
      "<BaseType with data array([1358987340], dtype=int32)>\n",
      "<BaseType with data array([1358987580], dtype=int32)>\n",
      "<BaseType with data array([1358987820], dtype=int32)>\n",
      "<BaseType with data array([1358988060], dtype=int32)>\n",
      "<BaseType with data array([1358988300], dtype=int32)>\n",
      "<BaseType with data array([1358988540], dtype=int32)>\n",
      "<BaseType with data array([1358988780], dtype=int32)>\n",
      "<BaseType with data array([1358989020], dtype=int32)>\n"
     ]
    }
   ],
   "source": [
    "count = 0\n",
    "for entry in mytime:\n",
    "    print(mytime[count])\n",
    "    count +=1\n",
    "    if count > 10:\n",
    "        break"
   ]
  },
  {
   "cell_type": "code",
   "execution_count": 14,
   "id": "6afdaaa7",
   "metadata": {},
   "outputs": [
    {
     "data": {
      "text/plain": [
       "<BaseType with data array([1358986620, 1358986860, 1358987100, 1358987340, 1358987580,\n",
       "       1358987820, 1358988060, 1358988300, 1358988540, 1358988780],\n",
       "      dtype=int32)>"
      ]
     },
     "execution_count": 14,
     "metadata": {},
     "output_type": "execute_result"
    }
   ],
   "source": [
    "grid = mytime[0:10]\n",
    "grid"
   ]
  },
  {
   "cell_type": "code",
   "execution_count": 15,
   "id": "4652b1e8",
   "metadata": {},
   "outputs": [
    {
     "data": {
      "text/plain": [
       "{'comment': 'also known as Epoch or Unix time',\n",
       " 'platform': 'platform1',\n",
       " 'long_name': 'time',\n",
       " 'standard_name': 'time',\n",
       " 'units': 'seconds since 1970-01-01 00:00:00 UTC',\n",
       " 'calendar': 'julian',\n",
       " 'axis': 'T',\n",
       " '_ChunkSizes': 1024}"
      ]
     },
     "execution_count": 15,
     "metadata": {},
     "output_type": "execute_result"
    }
   ],
   "source": [
    "grid.attributes"
   ]
  },
  {
   "cell_type": "code",
   "execution_count": 16,
   "id": "3c837f9b",
   "metadata": {},
   "outputs": [
    {
     "data": {
      "text/plain": [
       "<BaseType with data array([1358986620, 1358986860, 1358987100, 1358987340, 1358987580,\n",
       "       1358987820, 1358988060, 1358988300, 1358988540, 1358988780],\n",
       "      dtype=int32)>"
      ]
     },
     "execution_count": 16,
     "metadata": {},
     "output_type": "execute_result"
    }
   ],
   "source": [
    "var = dataset['time','salinity']\n",
    "grid = var.time[0:10]\n",
    "grid"
   ]
  },
  {
   "cell_type": "code",
   "execution_count": 17,
   "id": "dc43c319",
   "metadata": {},
   "outputs": [
    {
     "data": {
      "text/plain": [
       "pydap.model.DatasetType"
      ]
     },
     "execution_count": 17,
     "metadata": {},
     "output_type": "execute_result"
    }
   ],
   "source": [
    "type(var)"
   ]
  },
  {
   "cell_type": "code",
   "execution_count": 18,
   "id": "b6e11eaf",
   "metadata": {},
   "outputs": [
    {
     "data": {
      "text/plain": [
       "pydap.model.BaseType"
      ]
     },
     "execution_count": 18,
     "metadata": {},
     "output_type": "execute_result"
    }
   ],
   "source": [
    "type(var.time)"
   ]
  },
  {
   "cell_type": "code",
   "execution_count": 19,
   "id": "14558dd9",
   "metadata": {},
   "outputs": [
    {
     "name": "stdout",
     "output_type": "stream",
     "text": [
      "(98550,)\n",
      "98550\n",
      "time\n",
      "{'comment': 'also known as Epoch or Unix time', 'platform': 'platform1', 'long_name': 'time', 'standard_name': 'time', 'units': 'seconds since 1970-01-01 00:00:00 UTC', 'calendar': 'julian', 'axis': 'T', '_ChunkSizes': 1024}\n"
     ]
    }
   ],
   "source": [
    "print(var.time.shape)\n",
    "print(len(var.time))\n",
    "print(grid[0].name)\n",
    "print(grid[0].attributes)"
   ]
  },
  {
   "cell_type": "code",
   "execution_count": 20,
   "id": "e66b0895",
   "metadata": {},
   "outputs": [
    {
     "name": "stdout",
     "output_type": "stream",
     "text": [
      "[1358986620 1358986860 1358987100 1358987340 1358987580 1358987820\n",
      " 1358988060 1358988300 1358988540 1358988780]\n",
      "<class 'numpy.ndarray'>\n"
     ]
    }
   ],
   "source": [
    "print(grid.data)\n",
    "print(type(grid.data))"
   ]
  },
  {
   "cell_type": "code",
   "execution_count": 21,
   "id": "bf985839",
   "metadata": {
    "scrolled": true
   },
   "outputs": [
    {
     "name": "stdout",
     "output_type": "stream",
     "text": [
      "31\n",
      "['time', 'temperature', 'conductivity', 'pressure', 'salinity', 'chlorophyll_raw', 'chlorophyll', 'temperature_flagPrimary', 'temperature_flagSecondary', 'conductivity_flagPrimary', 'conductivity_flagSecondary', 'pressure_flagPrimary', 'pressure_flagSecondary', 'salinity_flagPrimary', 'salinity_flagSecondary', 'chlorophyll_flagPrimary', 'chlorophyll_flagSecondary', 'sigmat', 'diagnosticVoltage', 'currentDraw', 'aux1', 'aux3', 'aux4', 'instrument1', 'instrument2', 'platform1', 'station', 'lat', 'lon', 'depth', 'crs']\n",
      "27\n",
      "['time', 'temperature', 'conductivity', 'pressure', 'salinity', 'chlorophyll_raw', 'chlorophyll', 'temperature_flagPrimary', 'temperature_flagSecondary', 'conductivity_flagPrimary', 'conductivity_flagSecondary', 'pressure_flagPrimary', 'pressure_flagSecondary', 'salinity_flagPrimary', 'salinity_flagSecondary', 'chlorophyll_flagPrimary', 'chlorophyll_flagSecondary', 'sigmat', 'diagnosticVoltage', 'currentDraw', 'aux1', 'aux3', 'aux4', 'lat', 'lon', 'depth', 'crs']\n",
      "23\n",
      "['time', 'temperature', 'conductivity', 'pressure', 'salinity', 'chlorophyll_raw', 'chlorophyll', 'temperature_flagPrimary', 'temperature_flagSecondary', 'conductivity_flagPrimary', 'conductivity_flagSecondary', 'pressure_flagPrimary', 'pressure_flagSecondary', 'salinity_flagPrimary', 'salinity_flagSecondary', 'chlorophyll_flagPrimary', 'chlorophyll_flagSecondary', 'sigmat', 'diagnosticVoltage', 'currentDraw', 'aux1', 'aux3', 'aux4']\n"
     ]
    }
   ],
   "source": [
    "fields = list(dataset.keys())\n",
    "print(len(fields))\n",
    "print(fields)\n",
    "    #exclude string fields instrument1 (etc) they prevent loop from working\n",
    "fields.remove('instrument1')\n",
    "fields.remove('instrument2')\n",
    "fields.remove('platform1')\n",
    "fields.remove('station')\n",
    "print(len(fields))\n",
    "print(fields)\n",
    "    #exclude single-entry items, they also prevent loop from working\n",
    "fields.remove('lat')\n",
    "fields.remove('lon')\n",
    "fields.remove('depth')\n",
    "fields.remove('crs')\n",
    "print(len(fields))\n",
    "print(fields)"
   ]
  },
  {
   "cell_type": "code",
   "execution_count": 33,
   "id": "3a00580f",
   "metadata": {},
   "outputs": [
    {
     "name": "stdout",
     "output_type": "stream",
     "text": [
      "time <BaseType with data array([1358986620, 1358986860, 1358987100, 1358987340, 1358987580,\n",
      "       1358987820, 1358988060, 1358988300, 1358988540, 1358988780,\n",
      "       1358989020, 1358989260, 1358989500, 1358989740, 1358989980,\n",
      "       1358990220, 1358990460, 1358990700, 1358990940, 1358991180,\n",
      "       1358991420, 1358991660, 1358991900, 1358992140, 1358992380,\n",
      "       1358992620, 1358992860, 1358993100, 1358993340], dtype=int32)> <class 'numpy.dtype[intc]'>\n",
      "temperature <BaseType with data array([13.084 , 13.085 , 13.0868, 13.0825, 13.081 , 13.0785, 13.0797,\n",
      "       13.0821, 13.0786, 13.0768, 13.0747, 13.0733, 13.073 , 13.0739,\n",
      "       13.0743, 13.0742, 13.0711, 13.0695, 13.0699, 13.0697, 13.0686,\n",
      "       13.0681, 13.0681, 13.0669, 13.0667, 13.0667, 13.0674, 13.0671,\n",
      "       13.0667], dtype=float32)> <class 'numpy.dtype[float32]'>\n",
      "conductivity <BaseType with data array([3.87131, 3.87138, 3.87154, 3.87116, 3.87106, 3.87084, 3.87091,\n",
      "       3.87114, 3.87083, 3.87069, 3.87048, 3.87038, 3.87033, 3.87041,\n",
      "       3.87047, 3.87045, 3.8702 , 3.87003, 3.87005, 3.87002, 3.86995,\n",
      "       3.86991, 3.8699 , 3.86982, 3.86976, 3.86974, 3.86985, 3.8698 ,\n",
      "       3.86975], dtype=float32)> <class 'numpy.dtype[float32]'>\n",
      "pressure <BaseType with data array([2.377, 2.35 , 2.38 , 2.391, 2.404, 2.411, 2.461, 2.524, 2.472,\n",
      "       2.524, 2.531, 2.567, 2.565, 2.595, 2.596, 2.625, 2.662, 2.7  ,\n",
      "       2.739, 2.681, 2.705, 2.761, 2.757, 2.714, 2.752, 2.811, 2.824,\n",
      "       2.857, 2.87 ], dtype=float32)> <class 'numpy.dtype[float32]'>\n",
      "salinity <BaseType with data array([32.7869, 32.7867, 32.7867, 32.7868, 32.7872, 32.7872, 32.7869,\n",
      "       32.787 , 32.787 , 32.7872, 32.7871, 32.7873, 32.7871, 32.787 ,\n",
      "       32.7873, 32.7872, 32.7875, 32.7873, 32.7871, 32.7871, 32.7873,\n",
      "       32.7873, 32.7872, 32.7875, 32.787 , 32.7869, 32.7874, 32.7871,\n",
      "       32.787 ], dtype=float32)> <class 'numpy.dtype[float32]'>\n",
      "chlorophyll_raw <BaseType with data array([0.0323, 0.0318, 0.0326, 0.0326, 0.0324, 0.0328, 0.0324, 0.032 ,\n",
      "       0.0325, 0.0325, 0.0323, 0.0322, 0.0324, 0.0317, 0.0318, 0.0316,\n",
      "       0.0319, 0.0325, 0.0323, 0.0324, 0.0322, 0.0327, 0.0326, 0.0325,\n",
      "       0.0319, 0.0318, 0.0318, 0.0318, 0.0322], dtype=float32)> <class 'numpy.dtype[float32]'>\n",
      "chlorophyll <BaseType with data array([0.323, 0.318, 0.326, 0.326, 0.324, 0.328, 0.324, 0.32 , 0.325,\n",
      "       0.325, 0.323, 0.322, 0.324, 0.317, 0.318, 0.316, 0.319, 0.325,\n",
      "       0.323, 0.324, 0.322, 0.327, 0.326, 0.325, 0.319, 0.318, 0.318,\n",
      "       0.318, 0.322], dtype=float32)> <class 'numpy.dtype[float32]'>\n",
      "temperature_flagPrimary <BaseType with data array([1, 1, 1, 1, 1, 1, 1, 1, 1, 1, 1, 1, 1, 1, 1, 1, 1, 1, 1, 1, 1, 1,\n",
      "       1, 1, 1, 1, 1, 1, 1], dtype=uint8)> <class 'numpy.dtype[uint8]'>\n",
      "temperature_flagSecondary <BaseType with data array([0, 0, 0, 0, 0, 0, 0, 0, 0, 0, 0, 0, 0, 0, 0, 0, 0, 0, 0, 0, 0, 0,\n",
      "       0, 0, 0, 0, 0, 0, 0], dtype=uint8)> <class 'numpy.dtype[uint8]'>\n",
      "conductivity_flagPrimary <BaseType with data array([1, 1, 1, 1, 1, 1, 1, 1, 1, 1, 1, 1, 1, 1, 1, 1, 1, 1, 1, 1, 1, 1,\n",
      "       1, 1, 1, 1, 1, 1, 1], dtype=uint8)> <class 'numpy.dtype[uint8]'>\n",
      "conductivity_flagSecondary <BaseType with data array([0, 0, 0, 0, 0, 0, 0, 0, 0, 0, 0, 0, 0, 0, 0, 0, 0, 0, 0, 0, 0, 0,\n",
      "       0, 0, 0, 0, 0, 0, 0], dtype=uint8)> <class 'numpy.dtype[uint8]'>\n",
      "pressure_flagPrimary <BaseType with data array([1, 1, 1, 1, 1, 1, 1, 1, 1, 1, 1, 1, 1, 1, 1, 1, 1, 1, 1, 1, 1, 1,\n",
      "       1, 1, 1, 1, 1, 1, 1], dtype=uint8)> <class 'numpy.dtype[uint8]'>\n",
      "pressure_flagSecondary <BaseType with data array([0, 0, 0, 0, 0, 0, 0, 0, 0, 0, 0, 0, 0, 0, 0, 0, 0, 0, 0, 0, 0, 0,\n",
      "       0, 0, 0, 0, 0, 0, 0], dtype=uint8)> <class 'numpy.dtype[uint8]'>\n",
      "salinity_flagPrimary <BaseType with data array([1, 1, 1, 1, 1, 1, 1, 1, 1, 1, 1, 1, 1, 1, 1, 1, 1, 1, 1, 1, 1, 1,\n",
      "       1, 1, 1, 1, 1, 1, 1], dtype=uint8)> <class 'numpy.dtype[uint8]'>\n",
      "salinity_flagSecondary <BaseType with data array([0, 0, 0, 0, 0, 0, 0, 0, 0, 0, 0, 0, 0, 0, 0, 0, 0, 0, 0, 0, 0, 0,\n",
      "       0, 0, 0, 0, 0, 0, 0], dtype=uint8)> <class 'numpy.dtype[uint8]'>\n",
      "chlorophyll_flagPrimary <BaseType with data array([1, 1, 1, 1, 1, 1, 1, 1, 1, 1, 1, 1, 1, 1, 1, 1, 1, 1, 1, 1, 1, 1,\n",
      "       1, 1, 1, 1, 1, 1, 1], dtype=uint8)> <class 'numpy.dtype[uint8]'>\n",
      "chlorophyll_flagSecondary <BaseType with data array([0, 0, 0, 0, 0, 0, 0, 0, 0, 0, 0, 0, 0, 0, 0, 0, 0, 0, 0, 0, 0, 0,\n",
      "       0, 0, 0, 0, 0, 0, 0], dtype=uint8)> <class 'numpy.dtype[uint8]'>\n",
      "sigmat <BaseType with data array([24.6624, 24.662 , 24.6616, 24.6626, 24.6631, 24.6637, 24.6631,\n",
      "       24.6627, 24.6635, 24.6639, 24.6643, 24.6647, 24.6647, 24.6644,\n",
      "       24.6646, 24.6644, 24.6653, 24.6654, 24.6652, 24.6653, 24.6656,\n",
      "       24.6658, 24.6656, 24.6661, 24.6658, 24.6656, 24.6659, 24.6658,\n",
      "       24.6658], dtype=float32)> <class 'numpy.dtype[float32]'>\n",
      "diagnosticVoltage <BaseType with data array([13. , 13. , 13. , 13. , 13. , 13. , 13. , 13. , 13. , 12.9, 13. ,\n",
      "       13. , 13. , 13. , 13. , 13. , 13. , 13. , 13. , 13. , 13. , 13. ,\n",
      "       12.9, 13. , 13. , 13. , 13. , 13. , 13. ], dtype=float32)> <class 'numpy.dtype[float32]'>\n",
      "currentDraw <BaseType with data array([127.1, 130.7, 129.8, 133.9, 124.8, 131.5, 132.2, 131.2, 132. ,\n",
      "       140.2, 131.2, 129. , 134.4, 131.3, 135.1, 132.1, 130.9, 138. ,\n",
      "       137.4, 132.6, 132.8, 136.1, 129.8, 128.1, 133.7, 130.4, 134.9,\n",
      "       134.1, 134.5], dtype=float32)> <class 'numpy.dtype[float32]'>\n",
      "aux1 <BaseType with data array([0.0003, 0.0003, 0.0003, 0.0003, 0.0003, 0.0003, 0.0003, 0.0003,\n",
      "       0.0003, 0.0002, 0.0003, 0.0003, 0.0003, 0.0003, 0.0003, 0.0003,\n",
      "       0.0003, 0.0003, 0.0003, 0.0003, 0.0003, 0.0003, 0.0003, 0.0003,\n",
      "       0.0003, 0.0003, 0.0003, 0.0003, 0.0003], dtype=float32)> <class 'numpy.dtype[float32]'>\n",
      "aux3 <BaseType with data array([0.0003, 0.0002, 0.0002, 0.0002, 0.0002, 0.0003, 0.0002, 0.0002,\n",
      "       0.0002, 0.0002, 0.0002, 0.0002, 0.0002, 0.0002, 0.0002, 0.0002,\n",
      "       0.0002, 0.0002, 0.0002, 0.0003, 0.0002, 0.0003, 0.0002, 0.0002,\n",
      "       0.0002, 0.0003, 0.0002, 0.0003, 0.0002], dtype=float32)> <class 'numpy.dtype[float32]'>\n",
      "aux4 <BaseType with data array([0.0003, 0.0002, 0.0003, 0.0003, 0.0003, 0.0003, 0.0002, 0.0002,\n",
      "       0.0003, 0.0003, 0.0003, 0.0003, 0.0003, 0.0003, 0.0003, 0.0002,\n",
      "       0.0003, 0.0003, 0.0003, 0.0003, 0.0003, 0.0003, 0.0003, 0.0003,\n",
      "       0.0002, 0.0003, 0.0003, 0.0003, 0.0003], dtype=float32)> <class 'numpy.dtype[float32]'>\n"
     ]
    }
   ],
   "source": [
    "for entry in fields:\n",
    "    #the actual request to the server only happens when this line executes, and only for the subset stated\n",
    "    measurement = dataset[entry][0:29] \n",
    "    print(entry, measurement, type(measurement.dtype))\n",
    "#    for item in measurement:\n",
    "#        print(item)"
   ]
  },
  {
   "cell_type": "code",
   "execution_count": 34,
   "id": "1afa66f1",
   "metadata": {},
   "outputs": [
    {
     "name": "stdout",
     "output_type": "stream",
     "text": [
      "time <BaseType with data array([1358986620, 1358986860, 1358987100, ..., 1388533619, 1388533858,\n",
      "       1388534097], dtype=int32)> <class 'numpy.dtype[intc]'>\n",
      "temperature <BaseType with data array([13.084 , 13.085 , 13.0868, ..., 15.5959, 15.5916, 15.5931],\n",
      "      dtype=float32)> <class 'numpy.dtype[float32]'>\n",
      "conductivity <BaseType with data array([3.87131, 3.87138, 3.87154, ..., 4.16742, 4.16714, 4.16704],\n",
      "      dtype=float32)> <class 'numpy.dtype[float32]'>\n",
      "pressure <BaseType with data array([2.377, 2.35 , 2.38 , ..., 1.571, 1.578, 1.553], dtype=float32)> <class 'numpy.dtype[float32]'>\n",
      "salinity <BaseType with data array([32.7869, 32.7867, 32.7867, ..., 33.3569, 33.358 , 33.3559],\n",
      "      dtype=float32)> <class 'numpy.dtype[float32]'>\n",
      "chlorophyll_raw <BaseType with data array([0.0323, 0.0318, 0.0326, ..., 4.9293, 4.9294, 4.9293], dtype=float32)> <class 'numpy.dtype[float32]'>\n",
      "chlorophyll <BaseType with data array([ 0.323,  0.318,  0.326, ..., 49.293, 49.294, 49.293], dtype=float32)> <class 'numpy.dtype[float32]'>\n",
      "temperature_flagPrimary <BaseType with data array([1, 1, 1, ..., 1, 1, 1], dtype=uint8)> <class 'numpy.dtype[uint8]'>\n",
      "temperature_flagSecondary <BaseType with data array([0, 0, 0, ..., 0, 0, 0], dtype=uint8)> <class 'numpy.dtype[uint8]'>\n",
      "conductivity_flagPrimary <BaseType with data array([1, 1, 1, ..., 1, 1, 1], dtype=uint8)> <class 'numpy.dtype[uint8]'>\n",
      "conductivity_flagSecondary <BaseType with data array([0, 0, 0, ..., 0, 0, 0], dtype=uint8)> <class 'numpy.dtype[uint8]'>\n",
      "pressure_flagPrimary <BaseType with data array([1, 1, 1, ..., 1, 1, 1], dtype=uint8)> <class 'numpy.dtype[uint8]'>\n",
      "pressure_flagSecondary <BaseType with data array([0, 0, 0, ..., 0, 0, 0], dtype=uint8)> <class 'numpy.dtype[uint8]'>\n",
      "salinity_flagPrimary <BaseType with data array([1, 1, 1, ..., 1, 1, 1], dtype=uint8)> <class 'numpy.dtype[uint8]'>\n",
      "salinity_flagSecondary <BaseType with data array([0, 0, 0, ..., 0, 0, 0], dtype=uint8)> <class 'numpy.dtype[uint8]'>\n",
      "chlorophyll_flagPrimary <BaseType with data array([1, 1, 1, ..., 1, 1, 1], dtype=uint8)> <class 'numpy.dtype[uint8]'>\n"
     ]
    },
    {
     "ename": "IncompleteRead",
     "evalue": "IncompleteRead(103 bytes read)",
     "output_type": "error",
     "traceback": [
      "\u001b[1;31m---------------------------------------------------------------------------\u001b[0m",
      "\u001b[1;31mValueError\u001b[0m                                Traceback (most recent call last)",
      "\u001b[1;32m~\\anaconda3\\lib\\http\\client.py\u001b[0m in \u001b[0;36m_get_chunk_left\u001b[1;34m(self)\u001b[0m\n\u001b[0;32m    554\u001b[0m             \u001b[1;32mtry\u001b[0m\u001b[1;33m:\u001b[0m\u001b[1;33m\u001b[0m\u001b[1;33m\u001b[0m\u001b[0m\n\u001b[1;32m--> 555\u001b[1;33m                 \u001b[0mchunk_left\u001b[0m \u001b[1;33m=\u001b[0m \u001b[0mself\u001b[0m\u001b[1;33m.\u001b[0m\u001b[0m_read_next_chunk_size\u001b[0m\u001b[1;33m(\u001b[0m\u001b[1;33m)\u001b[0m\u001b[1;33m\u001b[0m\u001b[1;33m\u001b[0m\u001b[0m\n\u001b[0m\u001b[0;32m    556\u001b[0m             \u001b[1;32mexcept\u001b[0m \u001b[0mValueError\u001b[0m\u001b[1;33m:\u001b[0m\u001b[1;33m\u001b[0m\u001b[1;33m\u001b[0m\u001b[0m\n",
      "\u001b[1;32m~\\anaconda3\\lib\\http\\client.py\u001b[0m in \u001b[0;36m_read_next_chunk_size\u001b[1;34m(self)\u001b[0m\n\u001b[0;32m    521\u001b[0m         \u001b[1;32mtry\u001b[0m\u001b[1;33m:\u001b[0m\u001b[1;33m\u001b[0m\u001b[1;33m\u001b[0m\u001b[0m\n\u001b[1;32m--> 522\u001b[1;33m             \u001b[1;32mreturn\u001b[0m \u001b[0mint\u001b[0m\u001b[1;33m(\u001b[0m\u001b[0mline\u001b[0m\u001b[1;33m,\u001b[0m \u001b[1;36m16\u001b[0m\u001b[1;33m)\u001b[0m\u001b[1;33m\u001b[0m\u001b[1;33m\u001b[0m\u001b[0m\n\u001b[0m\u001b[0;32m    523\u001b[0m         \u001b[1;32mexcept\u001b[0m \u001b[0mValueError\u001b[0m\u001b[1;33m:\u001b[0m\u001b[1;33m\u001b[0m\u001b[1;33m\u001b[0m\u001b[0m\n",
      "\u001b[1;31mValueError\u001b[0m: invalid literal for int() with base 16: b''",
      "\nDuring handling of the above exception, another exception occurred:\n",
      "\u001b[1;31mIncompleteRead\u001b[0m                            Traceback (most recent call last)",
      "\u001b[1;32m~\\anaconda3\\lib\\http\\client.py\u001b[0m in \u001b[0;36m_readall_chunked\u001b[1;34m(self)\u001b[0m\n\u001b[0;32m    571\u001b[0m             \u001b[1;32mwhile\u001b[0m \u001b[1;32mTrue\u001b[0m\u001b[1;33m:\u001b[0m\u001b[1;33m\u001b[0m\u001b[1;33m\u001b[0m\u001b[0m\n\u001b[1;32m--> 572\u001b[1;33m                 \u001b[0mchunk_left\u001b[0m \u001b[1;33m=\u001b[0m \u001b[0mself\u001b[0m\u001b[1;33m.\u001b[0m\u001b[0m_get_chunk_left\u001b[0m\u001b[1;33m(\u001b[0m\u001b[1;33m)\u001b[0m\u001b[1;33m\u001b[0m\u001b[1;33m\u001b[0m\u001b[0m\n\u001b[0m\u001b[0;32m    573\u001b[0m                 \u001b[1;32mif\u001b[0m \u001b[0mchunk_left\u001b[0m \u001b[1;32mis\u001b[0m \u001b[1;32mNone\u001b[0m\u001b[1;33m:\u001b[0m\u001b[1;33m\u001b[0m\u001b[1;33m\u001b[0m\u001b[0m\n",
      "\u001b[1;32m~\\anaconda3\\lib\\http\\client.py\u001b[0m in \u001b[0;36m_get_chunk_left\u001b[1;34m(self)\u001b[0m\n\u001b[0;32m    556\u001b[0m             \u001b[1;32mexcept\u001b[0m \u001b[0mValueError\u001b[0m\u001b[1;33m:\u001b[0m\u001b[1;33m\u001b[0m\u001b[1;33m\u001b[0m\u001b[0m\n\u001b[1;32m--> 557\u001b[1;33m                 \u001b[1;32mraise\u001b[0m \u001b[0mIncompleteRead\u001b[0m\u001b[1;33m(\u001b[0m\u001b[1;34mb''\u001b[0m\u001b[1;33m)\u001b[0m\u001b[1;33m\u001b[0m\u001b[1;33m\u001b[0m\u001b[0m\n\u001b[0m\u001b[0;32m    558\u001b[0m             \u001b[1;32mif\u001b[0m \u001b[0mchunk_left\u001b[0m \u001b[1;33m==\u001b[0m \u001b[1;36m0\u001b[0m\u001b[1;33m:\u001b[0m\u001b[1;33m\u001b[0m\u001b[1;33m\u001b[0m\u001b[0m\n",
      "\u001b[1;31mIncompleteRead\u001b[0m: IncompleteRead(0 bytes read)",
      "\nDuring handling of the above exception, another exception occurred:\n",
      "\u001b[1;31mIncompleteRead\u001b[0m                            Traceback (most recent call last)",
      "\u001b[1;32m<ipython-input-34-f3cd470a6375>\u001b[0m in \u001b[0;36m<module>\u001b[1;34m\u001b[0m\n\u001b[0;32m      1\u001b[0m \u001b[1;32mfor\u001b[0m \u001b[0mentry\u001b[0m \u001b[1;32min\u001b[0m \u001b[0mfields\u001b[0m\u001b[1;33m:\u001b[0m\u001b[1;33m\u001b[0m\u001b[1;33m\u001b[0m\u001b[0m\n\u001b[1;32m----> 2\u001b[1;33m     \u001b[0mmeasurement\u001b[0m \u001b[1;33m=\u001b[0m \u001b[0mdataset\u001b[0m\u001b[1;33m[\u001b[0m\u001b[0mentry\u001b[0m\u001b[1;33m]\u001b[0m\u001b[1;33m[\u001b[0m\u001b[1;36m0\u001b[0m\u001b[1;33m:\u001b[0m\u001b[1;36m98549\u001b[0m\u001b[1;33m]\u001b[0m\u001b[1;33m\u001b[0m\u001b[1;33m\u001b[0m\u001b[0m\n\u001b[0m\u001b[0;32m      3\u001b[0m     \u001b[0mprint\u001b[0m\u001b[1;33m(\u001b[0m\u001b[0mentry\u001b[0m\u001b[1;33m,\u001b[0m \u001b[0mmeasurement\u001b[0m\u001b[1;33m,\u001b[0m \u001b[0mtype\u001b[0m\u001b[1;33m(\u001b[0m\u001b[0mmeasurement\u001b[0m\u001b[1;33m.\u001b[0m\u001b[0mdtype\u001b[0m\u001b[1;33m)\u001b[0m\u001b[1;33m)\u001b[0m\u001b[1;33m\u001b[0m\u001b[1;33m\u001b[0m\u001b[0m\n",
      "\u001b[1;32m~\\anaconda3\\lib\\site-packages\\pydap\\model.py\u001b[0m in \u001b[0;36m__getitem__\u001b[1;34m(self, index)\u001b[0m\n\u001b[0;32m    318\u001b[0m     \u001b[1;32mdef\u001b[0m \u001b[0m__getitem__\u001b[0m\u001b[1;33m(\u001b[0m\u001b[0mself\u001b[0m\u001b[1;33m,\u001b[0m \u001b[0mindex\u001b[0m\u001b[1;33m)\u001b[0m\u001b[1;33m:\u001b[0m\u001b[1;33m\u001b[0m\u001b[1;33m\u001b[0m\u001b[0m\n\u001b[0;32m    319\u001b[0m         \u001b[0mout\u001b[0m \u001b[1;33m=\u001b[0m \u001b[0mcopy\u001b[0m\u001b[1;33m.\u001b[0m\u001b[0mcopy\u001b[0m\u001b[1;33m(\u001b[0m\u001b[0mself\u001b[0m\u001b[1;33m)\u001b[0m\u001b[1;33m\u001b[0m\u001b[1;33m\u001b[0m\u001b[0m\n\u001b[1;32m--> 320\u001b[1;33m         \u001b[0mout\u001b[0m\u001b[1;33m.\u001b[0m\u001b[0mdata\u001b[0m \u001b[1;33m=\u001b[0m \u001b[0mself\u001b[0m\u001b[1;33m.\u001b[0m\u001b[0m_get_data_index\u001b[0m\u001b[1;33m(\u001b[0m\u001b[0mindex\u001b[0m\u001b[1;33m)\u001b[0m\u001b[1;33m\u001b[0m\u001b[1;33m\u001b[0m\u001b[0m\n\u001b[0m\u001b[0;32m    321\u001b[0m         \u001b[1;32mreturn\u001b[0m \u001b[0mout\u001b[0m\u001b[1;33m\u001b[0m\u001b[1;33m\u001b[0m\u001b[0m\n\u001b[0;32m    322\u001b[0m \u001b[1;33m\u001b[0m\u001b[0m\n",
      "\u001b[1;32m~\\anaconda3\\lib\\site-packages\\pydap\\model.py\u001b[0m in \u001b[0;36m_get_data_index\u001b[1;34m(self, index)\u001b[0m\n\u001b[0;32m    347\u001b[0m             \u001b[1;32mreturn\u001b[0m \u001b[0mnp\u001b[0m\u001b[1;33m.\u001b[0m\u001b[0mvectorize\u001b[0m\u001b[1;33m(\u001b[0m\u001b[0mdecode_np_strings\u001b[0m\u001b[1;33m)\u001b[0m\u001b[1;33m(\u001b[0m\u001b[0mself\u001b[0m\u001b[1;33m.\u001b[0m\u001b[0m_data\u001b[0m\u001b[1;33m[\u001b[0m\u001b[0mindex\u001b[0m\u001b[1;33m]\u001b[0m\u001b[1;33m)\u001b[0m\u001b[1;33m\u001b[0m\u001b[1;33m\u001b[0m\u001b[0m\n\u001b[0;32m    348\u001b[0m         \u001b[1;32melse\u001b[0m\u001b[1;33m:\u001b[0m\u001b[1;33m\u001b[0m\u001b[1;33m\u001b[0m\u001b[0m\n\u001b[1;32m--> 349\u001b[1;33m             \u001b[1;32mreturn\u001b[0m \u001b[0mself\u001b[0m\u001b[1;33m.\u001b[0m\u001b[0m_data\u001b[0m\u001b[1;33m[\u001b[0m\u001b[0mindex\u001b[0m\u001b[1;33m]\u001b[0m\u001b[1;33m\u001b[0m\u001b[1;33m\u001b[0m\u001b[0m\n\u001b[0m\u001b[0;32m    350\u001b[0m \u001b[1;33m\u001b[0m\u001b[0m\n\u001b[0;32m    351\u001b[0m     \u001b[1;32mdef\u001b[0m \u001b[0m_get_data\u001b[0m\u001b[1;33m(\u001b[0m\u001b[0mself\u001b[0m\u001b[1;33m)\u001b[0m\u001b[1;33m:\u001b[0m\u001b[1;33m\u001b[0m\u001b[1;33m\u001b[0m\u001b[0m\n",
      "\u001b[1;32m~\\anaconda3\\lib\\site-packages\\pydap\\handlers\\dap.py\u001b[0m in \u001b[0;36m__getitem__\u001b[1;34m(self, index)\u001b[0m\n\u001b[0;32m    139\u001b[0m         \u001b[1;31m# download and unpack data\u001b[0m\u001b[1;33m\u001b[0m\u001b[1;33m\u001b[0m\u001b[1;33m\u001b[0m\u001b[0m\n\u001b[0;32m    140\u001b[0m         \u001b[0mlogger\u001b[0m\u001b[1;33m.\u001b[0m\u001b[0minfo\u001b[0m\u001b[1;33m(\u001b[0m\u001b[1;34m\"Fetching URL: %s\"\u001b[0m \u001b[1;33m%\u001b[0m \u001b[0murl\u001b[0m\u001b[1;33m)\u001b[0m\u001b[1;33m\u001b[0m\u001b[1;33m\u001b[0m\u001b[0m\n\u001b[1;32m--> 141\u001b[1;33m         \u001b[0mr\u001b[0m \u001b[1;33m=\u001b[0m \u001b[0mGET\u001b[0m\u001b[1;33m(\u001b[0m\u001b[0murl\u001b[0m\u001b[1;33m,\u001b[0m \u001b[0mself\u001b[0m\u001b[1;33m.\u001b[0m\u001b[0mapplication\u001b[0m\u001b[1;33m,\u001b[0m \u001b[0mself\u001b[0m\u001b[1;33m.\u001b[0m\u001b[0msession\u001b[0m\u001b[1;33m,\u001b[0m \u001b[0mtimeout\u001b[0m\u001b[1;33m=\u001b[0m\u001b[0mself\u001b[0m\u001b[1;33m.\u001b[0m\u001b[0mtimeout\u001b[0m\u001b[1;33m)\u001b[0m\u001b[1;33m\u001b[0m\u001b[1;33m\u001b[0m\u001b[0m\n\u001b[0m\u001b[0;32m    142\u001b[0m         \u001b[0mraise_for_status\u001b[0m\u001b[1;33m(\u001b[0m\u001b[0mr\u001b[0m\u001b[1;33m)\u001b[0m\u001b[1;33m\u001b[0m\u001b[1;33m\u001b[0m\u001b[0m\n\u001b[0;32m    143\u001b[0m         \u001b[0mdds\u001b[0m\u001b[1;33m,\u001b[0m \u001b[0mdata\u001b[0m \u001b[1;33m=\u001b[0m \u001b[0mr\u001b[0m\u001b[1;33m.\u001b[0m\u001b[0mbody\u001b[0m\u001b[1;33m.\u001b[0m\u001b[0msplit\u001b[0m\u001b[1;33m(\u001b[0m\u001b[1;34mb'\\nData:\\n'\u001b[0m\u001b[1;33m,\u001b[0m \u001b[1;36m1\u001b[0m\u001b[1;33m)\u001b[0m\u001b[1;33m\u001b[0m\u001b[1;33m\u001b[0m\u001b[0m\n",
      "\u001b[1;32m~\\anaconda3\\lib\\site-packages\\pydap\\net.py\u001b[0m in \u001b[0;36mGET\u001b[1;34m(url, application, session, timeout)\u001b[0m\n\u001b[0;32m     24\u001b[0m         \u001b[0murl\u001b[0m \u001b[1;33m=\u001b[0m \u001b[0murlunsplit\u001b[0m\u001b[1;33m(\u001b[0m\u001b[1;33m(\u001b[0m\u001b[1;34m''\u001b[0m\u001b[1;33m,\u001b[0m \u001b[1;34m''\u001b[0m\u001b[1;33m,\u001b[0m \u001b[0mpath\u001b[0m\u001b[1;33m,\u001b[0m \u001b[0mquery\u001b[0m\u001b[1;33m,\u001b[0m \u001b[0mfragment\u001b[0m\u001b[1;33m)\u001b[0m\u001b[1;33m)\u001b[0m\u001b[1;33m\u001b[0m\u001b[1;33m\u001b[0m\u001b[0m\n\u001b[0;32m     25\u001b[0m \u001b[1;33m\u001b[0m\u001b[0m\n\u001b[1;32m---> 26\u001b[1;33m     return follow_redirect(url, application=application, session=session,\n\u001b[0m\u001b[0;32m     27\u001b[0m                            timeout=timeout)\n\u001b[0;32m     28\u001b[0m \u001b[1;33m\u001b[0m\u001b[0m\n",
      "\u001b[1;32m~\\anaconda3\\lib\\site-packages\\pydap\\net.py\u001b[0m in \u001b[0;36mfollow_redirect\u001b[1;34m(url, application, session, timeout)\u001b[0m\n\u001b[0;32m     49\u001b[0m \u001b[1;33m\u001b[0m\u001b[0m\n\u001b[0;32m     50\u001b[0m     \u001b[0mreq\u001b[0m \u001b[1;33m=\u001b[0m \u001b[0mcreate_request\u001b[0m\u001b[1;33m(\u001b[0m\u001b[0murl\u001b[0m\u001b[1;33m,\u001b[0m \u001b[0msession\u001b[0m\u001b[1;33m=\u001b[0m\u001b[0msession\u001b[0m\u001b[1;33m,\u001b[0m \u001b[0mtimeout\u001b[0m\u001b[1;33m=\u001b[0m\u001b[0mtimeout\u001b[0m\u001b[1;33m)\u001b[0m\u001b[1;33m\u001b[0m\u001b[1;33m\u001b[0m\u001b[0m\n\u001b[1;32m---> 51\u001b[1;33m     \u001b[1;32mreturn\u001b[0m \u001b[0mreq\u001b[0m\u001b[1;33m.\u001b[0m\u001b[0mget_response\u001b[0m\u001b[1;33m(\u001b[0m\u001b[0mapplication\u001b[0m\u001b[1;33m)\u001b[0m\u001b[1;33m\u001b[0m\u001b[1;33m\u001b[0m\u001b[0m\n\u001b[0m\u001b[0;32m     52\u001b[0m \u001b[1;33m\u001b[0m\u001b[0m\n\u001b[0;32m     53\u001b[0m \u001b[1;33m\u001b[0m\u001b[0m\n",
      "\u001b[1;32m~\\anaconda3\\lib\\site-packages\\webob\\request.py\u001b[0m in \u001b[0;36msend\u001b[1;34m(self, application, catch_exc_info)\u001b[0m\n\u001b[0;32m   1311\u001b[0m             \u001b[1;32mdel\u001b[0m \u001b[0mexc_info\u001b[0m\u001b[1;33m\u001b[0m\u001b[1;33m\u001b[0m\u001b[0m\n\u001b[0;32m   1312\u001b[0m         \u001b[1;32melse\u001b[0m\u001b[1;33m:\u001b[0m\u001b[1;33m\u001b[0m\u001b[1;33m\u001b[0m\u001b[0m\n\u001b[1;32m-> 1313\u001b[1;33m             status, headers, app_iter = self.call_application(\n\u001b[0m\u001b[0;32m   1314\u001b[0m                 application, catch_exc_info=False)\n\u001b[0;32m   1315\u001b[0m         return self.ResponseClass(\n",
      "\u001b[1;32m~\\anaconda3\\lib\\site-packages\\webob\\request.py\u001b[0m in \u001b[0;36mcall_application\u001b[1;34m(self, application, catch_exc_info)\u001b[0m\n\u001b[0;32m   1276\u001b[0m             \u001b[0mcaptured\u001b[0m\u001b[1;33m[\u001b[0m\u001b[1;33m:\u001b[0m\u001b[1;33m]\u001b[0m \u001b[1;33m=\u001b[0m \u001b[1;33m[\u001b[0m\u001b[0mstatus\u001b[0m\u001b[1;33m,\u001b[0m \u001b[0mheaders\u001b[0m\u001b[1;33m,\u001b[0m \u001b[0mexc_info\u001b[0m\u001b[1;33m]\u001b[0m\u001b[1;33m\u001b[0m\u001b[1;33m\u001b[0m\u001b[0m\n\u001b[0;32m   1277\u001b[0m             \u001b[1;32mreturn\u001b[0m \u001b[0moutput\u001b[0m\u001b[1;33m.\u001b[0m\u001b[0mappend\u001b[0m\u001b[1;33m\u001b[0m\u001b[1;33m\u001b[0m\u001b[0m\n\u001b[1;32m-> 1278\u001b[1;33m         \u001b[0mapp_iter\u001b[0m \u001b[1;33m=\u001b[0m \u001b[0mapplication\u001b[0m\u001b[1;33m(\u001b[0m\u001b[0mself\u001b[0m\u001b[1;33m.\u001b[0m\u001b[0menviron\u001b[0m\u001b[1;33m,\u001b[0m \u001b[0mstart_response\u001b[0m\u001b[1;33m)\u001b[0m\u001b[1;33m\u001b[0m\u001b[1;33m\u001b[0m\u001b[0m\n\u001b[0m\u001b[0;32m   1279\u001b[0m         \u001b[1;32mif\u001b[0m \u001b[0moutput\u001b[0m \u001b[1;32mor\u001b[0m \u001b[1;32mnot\u001b[0m \u001b[0mcaptured\u001b[0m\u001b[1;33m:\u001b[0m\u001b[1;33m\u001b[0m\u001b[1;33m\u001b[0m\u001b[0m\n\u001b[0;32m   1280\u001b[0m             \u001b[1;32mtry\u001b[0m\u001b[1;33m:\u001b[0m\u001b[1;33m\u001b[0m\u001b[1;33m\u001b[0m\u001b[0m\n",
      "\u001b[1;32m~\\anaconda3\\lib\\site-packages\\webob\\client.py\u001b[0m in \u001b[0;36m__call__\u001b[1;34m(self, environ, start_response)\u001b[0m\n\u001b[0;32m    117\u001b[0m             \u001b[0mbody\u001b[0m \u001b[1;33m=\u001b[0m \u001b[0mres\u001b[0m\u001b[1;33m.\u001b[0m\u001b[0mread\u001b[0m\u001b[1;33m(\u001b[0m\u001b[0mint\u001b[0m\u001b[1;33m(\u001b[0m\u001b[0mlength\u001b[0m\u001b[1;33m)\u001b[0m\u001b[1;33m)\u001b[0m\u001b[1;33m\u001b[0m\u001b[1;33m\u001b[0m\u001b[0m\n\u001b[0;32m    118\u001b[0m         \u001b[1;32melse\u001b[0m\u001b[1;33m:\u001b[0m\u001b[1;33m\u001b[0m\u001b[1;33m\u001b[0m\u001b[0m\n\u001b[1;32m--> 119\u001b[1;33m             \u001b[0mbody\u001b[0m \u001b[1;33m=\u001b[0m \u001b[0mres\u001b[0m\u001b[1;33m.\u001b[0m\u001b[0mread\u001b[0m\u001b[1;33m(\u001b[0m\u001b[1;33m)\u001b[0m\u001b[1;33m\u001b[0m\u001b[1;33m\u001b[0m\u001b[0m\n\u001b[0m\u001b[0;32m    120\u001b[0m         \u001b[0mconn\u001b[0m\u001b[1;33m.\u001b[0m\u001b[0mclose\u001b[0m\u001b[1;33m(\u001b[0m\u001b[1;33m)\u001b[0m\u001b[1;33m\u001b[0m\u001b[1;33m\u001b[0m\u001b[0m\n\u001b[0;32m    121\u001b[0m         \u001b[1;32mreturn\u001b[0m \u001b[1;33m[\u001b[0m\u001b[0mbody\u001b[0m\u001b[1;33m]\u001b[0m\u001b[1;33m\u001b[0m\u001b[1;33m\u001b[0m\u001b[0m\n",
      "\u001b[1;32m~\\anaconda3\\lib\\http\\client.py\u001b[0m in \u001b[0;36mread\u001b[1;34m(self, amt)\u001b[0m\n\u001b[0;32m    463\u001b[0m \u001b[1;33m\u001b[0m\u001b[0m\n\u001b[0;32m    464\u001b[0m             \u001b[1;32mif\u001b[0m \u001b[0mself\u001b[0m\u001b[1;33m.\u001b[0m\u001b[0mchunked\u001b[0m\u001b[1;33m:\u001b[0m\u001b[1;33m\u001b[0m\u001b[1;33m\u001b[0m\u001b[0m\n\u001b[1;32m--> 465\u001b[1;33m                 \u001b[1;32mreturn\u001b[0m \u001b[0mself\u001b[0m\u001b[1;33m.\u001b[0m\u001b[0m_readall_chunked\u001b[0m\u001b[1;33m(\u001b[0m\u001b[1;33m)\u001b[0m\u001b[1;33m\u001b[0m\u001b[1;33m\u001b[0m\u001b[0m\n\u001b[0m\u001b[0;32m    466\u001b[0m \u001b[1;33m\u001b[0m\u001b[0m\n\u001b[0;32m    467\u001b[0m             \u001b[1;32mif\u001b[0m \u001b[0mself\u001b[0m\u001b[1;33m.\u001b[0m\u001b[0mlength\u001b[0m \u001b[1;32mis\u001b[0m \u001b[1;32mNone\u001b[0m\u001b[1;33m:\u001b[0m\u001b[1;33m\u001b[0m\u001b[1;33m\u001b[0m\u001b[0m\n",
      "\u001b[1;32m~\\anaconda3\\lib\\http\\client.py\u001b[0m in \u001b[0;36m_readall_chunked\u001b[1;34m(self)\u001b[0m\n\u001b[0;32m    577\u001b[0m             \u001b[1;32mreturn\u001b[0m \u001b[1;34mb''\u001b[0m\u001b[1;33m.\u001b[0m\u001b[0mjoin\u001b[0m\u001b[1;33m(\u001b[0m\u001b[0mvalue\u001b[0m\u001b[1;33m)\u001b[0m\u001b[1;33m\u001b[0m\u001b[1;33m\u001b[0m\u001b[0m\n\u001b[0;32m    578\u001b[0m         \u001b[1;32mexcept\u001b[0m \u001b[0mIncompleteRead\u001b[0m\u001b[1;33m:\u001b[0m\u001b[1;33m\u001b[0m\u001b[1;33m\u001b[0m\u001b[0m\n\u001b[1;32m--> 579\u001b[1;33m             \u001b[1;32mraise\u001b[0m \u001b[0mIncompleteRead\u001b[0m\u001b[1;33m(\u001b[0m\u001b[1;34mb''\u001b[0m\u001b[1;33m.\u001b[0m\u001b[0mjoin\u001b[0m\u001b[1;33m(\u001b[0m\u001b[0mvalue\u001b[0m\u001b[1;33m)\u001b[0m\u001b[1;33m)\u001b[0m\u001b[1;33m\u001b[0m\u001b[1;33m\u001b[0m\u001b[0m\n\u001b[0m\u001b[0;32m    580\u001b[0m \u001b[1;33m\u001b[0m\u001b[0m\n\u001b[0;32m    581\u001b[0m     \u001b[1;32mdef\u001b[0m \u001b[0m_readinto_chunked\u001b[0m\u001b[1;33m(\u001b[0m\u001b[0mself\u001b[0m\u001b[1;33m,\u001b[0m \u001b[0mb\u001b[0m\u001b[1;33m)\u001b[0m\u001b[1;33m:\u001b[0m\u001b[1;33m\u001b[0m\u001b[1;33m\u001b[0m\u001b[0m\n",
      "\u001b[1;31mIncompleteRead\u001b[0m: IncompleteRead(103 bytes read)"
     ]
    }
   ],
   "source": [
    "for entry in fields:\n",
    "    measurement = dataset[entry][0:98549]\n",
    "    print(entry, measurement, type(measurement.dtype))"
   ]
  },
  {
   "cell_type": "code",
   "execution_count": null,
   "id": "9d605f96",
   "metadata": {},
   "outputs": [],
   "source": []
  }
 ],
 "metadata": {
  "kernelspec": {
   "display_name": "Python 3",
   "language": "python",
   "name": "python3"
  },
  "language_info": {
   "codemirror_mode": {
    "name": "ipython",
    "version": 3
   },
   "file_extension": ".py",
   "mimetype": "text/x-python",
   "name": "python",
   "nbconvert_exporter": "python",
   "pygments_lexer": "ipython3",
   "version": "3.8.8"
  }
 },
 "nbformat": 4,
 "nbformat_minor": 5
}
